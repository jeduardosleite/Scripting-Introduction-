{
 "cells": [
  {
   "cell_type": "code",
   "execution_count": 132,
   "id": "948c14bf-e866-408a-971a-b1307c718cf3",
   "metadata": {},
   "outputs": [],
   "source": [
    "import numpy as np\n",
    "import pandas as pd\n",
    "import seaborn as sns\n",
    "import matplotlib.pyplot as plt\n",
    "import os\n",
    "import re\n",
    "\n",
    "sns.set_theme()  "
   ]
  },
  {
   "cell_type": "code",
   "execution_count": 134,
   "id": "12da9cc8-0a22-4652-91f2-64ed4cefe013",
   "metadata": {},
   "outputs": [],
   "source": [
    "sinasc_mar = pd.read_csv('/Users/Meu Computador/anaconda3/@ EBAC/Módulo 14 - Scripting/input/SINASC_RO_2019_MAR.csv')\n",
    "sinasc_abr = pd.read_csv('/Users/Meu Computador/anaconda3/@ EBAC/Módulo 14 - Scripting/input/SINASC_RO_2019_ABR.csv')\n",
    "sinasc_mai = pd.read_csv('/Users/Meu Computador/anaconda3/@ EBAC/Módulo 14 - Scripting/input/SINASC_RO_2019_MAI.csv')\n",
    "sinasc_jun = pd.read_csv('/Users/Meu Computador/anaconda3/@ EBAC/Módulo 14 - Scripting/input/SINASC_RO_2019_JUN.csv')\n",
    "sinasc_dez = pd.read_csv('/Users/Meu Computador/anaconda3/@ EBAC/Módulo 14 - Scripting/input/SINASC_RO_2019_DEZ.csv')\n",
    "\n",
    "\n",
    "pasta_destino = '/Users/Meu Computador/anaconda3/@ EBAC/Módulo 14 - Scripting/Atividade_1'\n",
    "os.makedirs(pasta_destino, exist_ok=True)\n",
    "caminho = pasta_destino\n",
    "\n",
    "def limpar_nome_arquivo(titulo):\n",
    "    return re.sub(r'[^\\w\\-_. ]', '_', titulo)\n",
    "    \n",
    "def plota_pivot_table(df, value, index, func, ylabel, xlabel, opcao='nada', salvar=False, caminho_salvar=None, title=None):\n",
    "    plt.figure(figsize=[15,5])\n",
    "\n",
    "    if opcao == 'nada':\n",
    "        pd.pivot_table(df, values=value, index=index, aggfunc=func).plot(style='.-')\n",
    "    elif opcao == 'sort':\n",
    "        pd.pivot_table(df, values=value, index=index, aggfunc=func).sort_values(value).plot(style='.-')\n",
    "    elif opcao == 'unstack':\n",
    "        pd.pivot_table(df, values=value, index=index, aggfunc=func).unstack().plot(style='.-')\n",
    "\n",
    "    plt.ylabel(ylabel)\n",
    "    plt.xlabel(xlabel)\n",
    "\n",
    "    if title:\n",
    "        plt.title(title)\n",
    "    else:\n",
    "        plt.title('Gráfico')\n",
    "\n",
    "    if salvar and not caminho_salvar:\n",
    "        if title:\n",
    "            nome_arquivo = limpar_nome_arquivo(title) + '.png'\n",
    "            caminho_salvar = os.path.join(pasta_destino, nome_arquivo)\n",
    "        else:\n",
    "            raise ValueError(\"Para salvar o gráfico automaticamente, forneça um título ou caminho_salvar.\")\n",
    "\n",
    "    if salvar and caminho_salvar:\n",
    "        plt.savefig(caminho_salvar, bbox_inches='tight')\n",
    "        print(f'Gráfico salvo em: {caminho_salvar}')\n",
    "        plt.close()\n",
    "    else:\n",
    "        plt.show()\n"
   ]
  },
  {
   "cell_type": "markdown",
   "id": "5e17f383-ccb1-4777-b2e4-fa3f4d21f598",
   "metadata": {},
   "source": [
    "# Março"
   ]
  },
  {
   "cell_type": "code",
   "execution_count": 136,
   "id": "afc01d85-a52a-4c80-81e4-f4c5ae91897f",
   "metadata": {},
   "outputs": [
    {
     "name": "stdout",
     "output_type": "stream",
     "text": [
      "Gráfico salvo em: /Users/Meu Computador/anaconda3/@ EBAC/Módulo 14 - Scripting/Atividade_1\\Março_ Idade mãe x Sexo.png\n",
      "Gráfico salvo em: /Users/Meu Computador/anaconda3/@ EBAC/Módulo 14 - Scripting/Atividade_1\\Março_ Peso x Sexo.png\n",
      "Gráfico salvo em: /Users/Meu Computador/anaconda3/@ EBAC/Módulo 14 - Scripting/Atividade_1\\Março_ Peso x Escolaridade mãe.png\n",
      "Gráfico salvo em: /Users/Meu Computador/anaconda3/@ EBAC/Módulo 14 - Scripting/Atividade_1\\Março_ APGAR1 x Gestação.png\n"
     ]
    },
    {
     "data": {
      "text/plain": [
       "<Figure size 1500x500 with 0 Axes>"
      ]
     },
     "metadata": {},
     "output_type": "display_data"
    },
    {
     "data": {
      "text/plain": [
       "<Figure size 1500x500 with 0 Axes>"
      ]
     },
     "metadata": {},
     "output_type": "display_data"
    },
    {
     "data": {
      "text/plain": [
       "<Figure size 1500x500 with 0 Axes>"
      ]
     },
     "metadata": {},
     "output_type": "display_data"
    },
    {
     "data": {
      "text/plain": [
       "<Figure size 1500x500 with 0 Axes>"
      ]
     },
     "metadata": {},
     "output_type": "display_data"
    }
   ],
   "source": [
    "plota_pivot_table(sinasc_mar, \n",
    "                  'IDADEMAE', \n",
    "                  ['DTNASC','SEXO'], \n",
    "                  'mean', 'Idade mãe', \n",
    "                  'Nascimento X Sexo', \n",
    "                  'unstack', \n",
    "                  salvar=True, \n",
    "                  title='Março: Idade mãe x Sexo')\n",
    "\n",
    "plota_pivot_table(sinasc_mar, \n",
    "                  'PESO', \n",
    "                  ['DTNASC','SEXO'], \n",
    "                  'count', \n",
    "                  'Peso', \n",
    "                  'Nascimento X Sexo', \n",
    "                  'unstack', \n",
    "                  salvar=True, \n",
    "                 title='Março: Peso x Sexo')\n",
    "\n",
    "plota_pivot_table(sinasc_mar, \n",
    "                  'PESO', \n",
    "                  'ESCMAE', \n",
    "                  'median', \n",
    "                  'Peso', \n",
    "                  'Escolaridade Mãe', \n",
    "                  'sort', \n",
    "                  salvar=True, \n",
    "                 title='Março: Peso x Escolaridade mãe')\n",
    "\n",
    "plota_pivot_table(sinasc_mar, \n",
    "                  'APGAR1', \n",
    "                  'GESTACAO', \n",
    "                  'mean', \n",
    "                  'Apgar1', \n",
    "                  'Gestação', \n",
    "                  'sort', \n",
    "                  salvar=True, \n",
    "                 title='Março: APGAR1 x Gestação')"
   ]
  },
  {
   "cell_type": "markdown",
   "id": "2cc2f5ca-e055-4570-9e29-174375e60c27",
   "metadata": {},
   "source": [
    "# Maio"
   ]
  },
  {
   "cell_type": "code",
   "execution_count": 142,
   "id": "05ca0686-ea62-4e4e-bd76-1d3e33760076",
   "metadata": {},
   "outputs": [
    {
     "name": "stdout",
     "output_type": "stream",
     "text": [
      "Gráfico salvo em: /Users/Meu Computador/anaconda3/@ EBAC/Módulo 14 - Scripting/Atividade_1\\Maio_ Idade mãe x Sexo.png\n",
      "Gráfico salvo em: /Users/Meu Computador/anaconda3/@ EBAC/Módulo 14 - Scripting/Atividade_1\\Maio_ Peso x Sexo.png\n",
      "Gráfico salvo em: /Users/Meu Computador/anaconda3/@ EBAC/Módulo 14 - Scripting/Atividade_1\\Maio_ Peso x Escolaridade mãe.png\n",
      "Gráfico salvo em: /Users/Meu Computador/anaconda3/@ EBAC/Módulo 14 - Scripting/Atividade_1\\Maio_ APGAR1 x Gestação.png\n"
     ]
    },
    {
     "data": {
      "text/plain": [
       "<Figure size 1500x500 with 0 Axes>"
      ]
     },
     "metadata": {},
     "output_type": "display_data"
    },
    {
     "data": {
      "text/plain": [
       "<Figure size 1500x500 with 0 Axes>"
      ]
     },
     "metadata": {},
     "output_type": "display_data"
    },
    {
     "data": {
      "text/plain": [
       "<Figure size 1500x500 with 0 Axes>"
      ]
     },
     "metadata": {},
     "output_type": "display_data"
    },
    {
     "data": {
      "text/plain": [
       "<Figure size 1500x500 with 0 Axes>"
      ]
     },
     "metadata": {},
     "output_type": "display_data"
    }
   ],
   "source": [
    "plota_pivot_table(sinasc_mai, \n",
    "                  'IDADEMAE', \n",
    "                  ['DTNASC','SEXO'], \n",
    "                  'mean', 'Idade mãe', \n",
    "                  'Nascimento X Sexo', \n",
    "                  'unstack', \n",
    "                  salvar=True, \n",
    "                  title='Maio: Idade mãe x Sexo')\n",
    "\n",
    "plota_pivot_table(sinasc_mai, \n",
    "                  'PESO', \n",
    "                  ['DTNASC','SEXO'], \n",
    "                  'count', \n",
    "                  'Peso', \n",
    "                  'Nascimento X Sexo', \n",
    "                  'unstack', \n",
    "                  salvar=True, \n",
    "                 title='Maio: Peso x Sexo')\n",
    "\n",
    "plota_pivot_table(sinasc_mai, \n",
    "                  'PESO', \n",
    "                  'ESCMAE', \n",
    "                  'median', \n",
    "                  'Peso', \n",
    "                  'Escolaridade Mãe', \n",
    "                  'sort', \n",
    "                  salvar=True, \n",
    "                 title='Maio: Peso x Escolaridade mãe')\n",
    "\n",
    "plota_pivot_table(sinasc_mai, \n",
    "                  'APGAR1', \n",
    "                  'GESTACAO', \n",
    "                  'mean', \n",
    "                  'Apgar1', \n",
    "                  'Gestação', \n",
    "                  'sort', \n",
    "                  salvar=True, \n",
    "                 title='Maio: APGAR1 x Gestação')"
   ]
  },
  {
   "cell_type": "markdown",
   "id": "3eb9f268-37ac-40b9-b2e5-52609405f980",
   "metadata": {},
   "source": [
    "# Abril"
   ]
  },
  {
   "cell_type": "code",
   "execution_count": 140,
   "id": "69ef0d13-31b7-49b6-877c-8a2fa588f062",
   "metadata": {},
   "outputs": [
    {
     "name": "stdout",
     "output_type": "stream",
     "text": [
      "Gráfico salvo em: /Users/Meu Computador/anaconda3/@ EBAC/Módulo 14 - Scripting/Atividade_1\\Abril_ Idade mãe x Sexo.png\n",
      "Gráfico salvo em: /Users/Meu Computador/anaconda3/@ EBAC/Módulo 14 - Scripting/Atividade_1\\Abril_ Peso x Sexo.png\n",
      "Gráfico salvo em: /Users/Meu Computador/anaconda3/@ EBAC/Módulo 14 - Scripting/Atividade_1\\Abril_ Peso x Escolaridade mãe.png\n",
      "Gráfico salvo em: /Users/Meu Computador/anaconda3/@ EBAC/Módulo 14 - Scripting/Atividade_1\\Abril_ APGAR1 x Gestação.png\n"
     ]
    },
    {
     "data": {
      "text/plain": [
       "<Figure size 1500x500 with 0 Axes>"
      ]
     },
     "metadata": {},
     "output_type": "display_data"
    },
    {
     "data": {
      "text/plain": [
       "<Figure size 1500x500 with 0 Axes>"
      ]
     },
     "metadata": {},
     "output_type": "display_data"
    },
    {
     "data": {
      "text/plain": [
       "<Figure size 1500x500 with 0 Axes>"
      ]
     },
     "metadata": {},
     "output_type": "display_data"
    },
    {
     "data": {
      "text/plain": [
       "<Figure size 1500x500 with 0 Axes>"
      ]
     },
     "metadata": {},
     "output_type": "display_data"
    }
   ],
   "source": [
    "plota_pivot_table(sinasc_abr, \n",
    "                  'IDADEMAE', \n",
    "                  ['DTNASC','SEXO'], \n",
    "                  'mean', 'Idade mãe', \n",
    "                  'Nascimento X Sexo', \n",
    "                  'unstack', \n",
    "                  salvar=True, \n",
    "                  title='Abril: Idade mãe x Sexo')\n",
    "\n",
    "plota_pivot_table(sinasc_abr, \n",
    "                  'PESO', \n",
    "                  ['DTNASC','SEXO'], \n",
    "                  'count', \n",
    "                  'Peso', \n",
    "                  'Nascimento X Sexo', \n",
    "                  'unstack', \n",
    "                  salvar=True, \n",
    "                 title='Abril: Peso x Sexo')\n",
    "\n",
    "plota_pivot_table(sinasc_abr, \n",
    "                  'PESO', \n",
    "                  'ESCMAE', \n",
    "                  'median', \n",
    "                  'Peso', \n",
    "                  'Escolaridade Mãe', \n",
    "                  'sort', \n",
    "                  salvar=True, \n",
    "                 title='Abril: Peso x Escolaridade mãe')\n",
    "\n",
    "plota_pivot_table(sinasc_mar, \n",
    "                  'APGAR1', \n",
    "                  'GESTACAO', \n",
    "                  'mean', \n",
    "                  'Apgar1', \n",
    "                  'Gestação', \n",
    "                  'sort', \n",
    "                  salvar=True, \n",
    "                 title='Abril: APGAR1 x Gestação')"
   ]
  },
  {
   "cell_type": "markdown",
   "id": "07797c8e-e98a-474a-9b20-7af0ebe7478e",
   "metadata": {},
   "source": [
    "# Junho"
   ]
  },
  {
   "cell_type": "code",
   "execution_count": 144,
   "id": "19bfbcbc-1b5d-4c3c-843a-a8664d6bf9e1",
   "metadata": {},
   "outputs": [
    {
     "name": "stdout",
     "output_type": "stream",
     "text": [
      "Gráfico salvo em: /Users/Meu Computador/anaconda3/@ EBAC/Módulo 14 - Scripting/Atividade_1\\Junho_ Idade mãe x Sexo.png\n",
      "Gráfico salvo em: /Users/Meu Computador/anaconda3/@ EBAC/Módulo 14 - Scripting/Atividade_1\\Junho_ Peso x Sexo.png\n",
      "Gráfico salvo em: /Users/Meu Computador/anaconda3/@ EBAC/Módulo 14 - Scripting/Atividade_1\\Junho_ Peso x Escolaridade mãe.png\n",
      "Gráfico salvo em: /Users/Meu Computador/anaconda3/@ EBAC/Módulo 14 - Scripting/Atividade_1\\Junho_ APGAR1 x Gestação.png\n"
     ]
    },
    {
     "data": {
      "text/plain": [
       "<Figure size 1500x500 with 0 Axes>"
      ]
     },
     "metadata": {},
     "output_type": "display_data"
    },
    {
     "data": {
      "text/plain": [
       "<Figure size 1500x500 with 0 Axes>"
      ]
     },
     "metadata": {},
     "output_type": "display_data"
    },
    {
     "data": {
      "text/plain": [
       "<Figure size 1500x500 with 0 Axes>"
      ]
     },
     "metadata": {},
     "output_type": "display_data"
    },
    {
     "data": {
      "text/plain": [
       "<Figure size 1500x500 with 0 Axes>"
      ]
     },
     "metadata": {},
     "output_type": "display_data"
    }
   ],
   "source": [
    "plota_pivot_table(sinasc_jun, \n",
    "                  'IDADEMAE', \n",
    "                  ['DTNASC','SEXO'], \n",
    "                  'mean', 'Idade mãe', \n",
    "                  'Nascimento X Sexo', \n",
    "                  'unstack', \n",
    "                  salvar=True, \n",
    "                  title='Junho: Idade mãe x Sexo')\n",
    "\n",
    "plota_pivot_table(sinasc_jun, \n",
    "                  'PESO', \n",
    "                  ['DTNASC','SEXO'], \n",
    "                  'count', \n",
    "                  'Peso', \n",
    "                  'Nascimento X Sexo', \n",
    "                  'unstack', \n",
    "                  salvar=True, \n",
    "                 title='Junho: Peso x Sexo')\n",
    "\n",
    "plota_pivot_table(sinasc_jun, \n",
    "                  'PESO', \n",
    "                  'ESCMAE', \n",
    "                  'median', \n",
    "                  'Peso', \n",
    "                  'Escolaridade Mãe', \n",
    "                  'sort', \n",
    "                  salvar=True, \n",
    "                 title='Junho: Peso x Escolaridade mãe')\n",
    "\n",
    "plota_pivot_table(sinasc_jun, \n",
    "                  'APGAR1', \n",
    "                  'GESTACAO', \n",
    "                  'mean', \n",
    "                  'Apgar1', \n",
    "                  'Gestação', \n",
    "                  'sort', \n",
    "                  salvar=True, \n",
    "                 title='Junho: APGAR1 x Gestação')"
   ]
  },
  {
   "cell_type": "markdown",
   "id": "ef6869e6-77a7-4205-8cc5-c8125176cd93",
   "metadata": {},
   "source": [
    "# Dezembro"
   ]
  },
  {
   "cell_type": "code",
   "execution_count": 146,
   "id": "333e2728-46a3-461a-be62-43011e7948f9",
   "metadata": {},
   "outputs": [
    {
     "name": "stdout",
     "output_type": "stream",
     "text": [
      "Gráfico salvo em: /Users/Meu Computador/anaconda3/@ EBAC/Módulo 14 - Scripting/Atividade_1\\Dezembro_ Idade mãe x Sexo.png\n",
      "Gráfico salvo em: /Users/Meu Computador/anaconda3/@ EBAC/Módulo 14 - Scripting/Atividade_1\\Dezembro_ Peso x Sexo.png\n",
      "Gráfico salvo em: /Users/Meu Computador/anaconda3/@ EBAC/Módulo 14 - Scripting/Atividade_1\\Dezembro_ Peso x Escolaridade mãe.png\n",
      "Gráfico salvo em: /Users/Meu Computador/anaconda3/@ EBAC/Módulo 14 - Scripting/Atividade_1\\Dezembro_ APGAR1 x Gestação.png\n"
     ]
    },
    {
     "data": {
      "text/plain": [
       "<Figure size 1500x500 with 0 Axes>"
      ]
     },
     "metadata": {},
     "output_type": "display_data"
    },
    {
     "data": {
      "text/plain": [
       "<Figure size 1500x500 with 0 Axes>"
      ]
     },
     "metadata": {},
     "output_type": "display_data"
    },
    {
     "data": {
      "text/plain": [
       "<Figure size 1500x500 with 0 Axes>"
      ]
     },
     "metadata": {},
     "output_type": "display_data"
    },
    {
     "data": {
      "text/plain": [
       "<Figure size 1500x500 with 0 Axes>"
      ]
     },
     "metadata": {},
     "output_type": "display_data"
    }
   ],
   "source": [
    "plota_pivot_table(sinasc_dez, \n",
    "                  'IDADEMAE', \n",
    "                  ['DTNASC','SEXO'], \n",
    "                  'mean', 'Idade mãe', \n",
    "                  'Nascimento X Sexo', \n",
    "                  'unstack', \n",
    "                  salvar=True, \n",
    "                  title='Dezembro: Idade mãe x Sexo')\n",
    "\n",
    "plota_pivot_table(sinasc_dez, \n",
    "                  'PESO', \n",
    "                  ['DTNASC','SEXO'], \n",
    "                  'count', \n",
    "                  'Peso', \n",
    "                  'Nascimento X Sexo', \n",
    "                  'unstack', \n",
    "                  salvar=True, \n",
    "                 title='Dezembro: Peso x Sexo')\n",
    "\n",
    "plota_pivot_table(sinasc_dez, \n",
    "                  'PESO', \n",
    "                  'ESCMAE', \n",
    "                  'median', \n",
    "                  'Peso', \n",
    "                  'Escolaridade Mãe', \n",
    "                  'sort', \n",
    "                  salvar=True, \n",
    "                 title='Dezembro: Peso x Escolaridade mãe')\n",
    "\n",
    "plota_pivot_table(sinasc_dez, \n",
    "                  'APGAR1', \n",
    "                  'GESTACAO', \n",
    "                  'mean', \n",
    "                  'Apgar1', \n",
    "                  'Gestação', \n",
    "                  'sort', \n",
    "                  salvar=True, \n",
    "                 title='Dezembro: APGAR1 x Gestação')"
   ]
  },
  {
   "cell_type": "markdown",
   "id": "ff2e9f8c-6bb3-4098-91cd-f067e82a19c7",
   "metadata": {},
   "source": [
    "### Note\n",
    "\n",
    "I added more codes to DEF in order to automate the path to saving the graphics. The title of the graphic, plus the .png, will be the file name.\n",
    "I would like to make the code simpler, but I couldn't."
   ]
  }
 ],
 "metadata": {
  "kernelspec": {
   "display_name": "Python 3 (ipykernel)",
   "language": "python",
   "name": "python3"
  },
  "language_info": {
   "codemirror_mode": {
    "name": "ipython",
    "version": 3
   },
   "file_extension": ".py",
   "mimetype": "text/x-python",
   "name": "python",
   "nbconvert_exporter": "python",
   "pygments_lexer": "ipython3",
   "version": "3.12.3"
  }
 },
 "nbformat": 4,
 "nbformat_minor": 5
}
